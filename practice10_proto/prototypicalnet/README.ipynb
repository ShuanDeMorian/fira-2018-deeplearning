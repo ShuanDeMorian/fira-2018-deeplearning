{
 "cells": [
  {
   "cell_type": "markdown",
   "metadata": {},
   "source": [
    "https://github.com/cyvius96/prototypical-network-pytorch"
   ]
  },
  {
   "cell_type": "markdown",
   "metadata": {},
   "source": [
    "## mini-imagenet dataset\n",
    "The miniImageNet dataset, originally proposed by Vinyals et al. [29], is derived from the larger\n",
    "ILSVRC-12 dataset [26]. The splits used by Vinyals et al. [29] consist of 60,000 color images of size\n",
    "84 × 84 divided into 100 classes with 600 examples each. For our experiments, we use the splits\n",
    "introduced by Ravi and Larochelle [22] in order to directly compare with state-of-the-art algorithms\n",
    "for few-shot learning. Their splits use a different set of 100 classes, divided into 64 training, 16\n",
    "validation, and 20 test classes. We follow their procedure by training on the 64 training classes and\n",
    "using the 16 validation classes for monitoring generalization performance only\n",
    "\n",
    "mini-imagenet dataset의 학습데이터는 64개의 클래스, validation은 20개의 클래스, test는 20개의 클래스로 구성되고 각 클래스마다 600개의 데이터를 가지고 있다. 논문에서 사용한 같은 실험 환경(클래스)을 위해서 material폴더 안의 csv파일을 사용하여 데이터를 불러옴\n",
    "\n",
    "1. ubuntu wget download\n",
    "wget --no-check-certificate -r 'https://docs.google.com/uc?export=download&id=0B3Irx3uQNoBMQ1FlNXJsZUdYWEE' -O FILENAME.zip\n",
    "\n",
    "2. unzip\n",
    "\n",
    "3. Make a folder materials/images and put those images into it.\n",
    "\n",
    "4. mkdir save for saving models."
   ]
  },
  {
   "cell_type": "code",
   "execution_count": null,
   "metadata": {
    "collapsed": true
   },
   "outputs": [],
   "source": []
  }
 ],
 "metadata": {
  "kernelspec": {
   "display_name": "Python 3",
   "language": "python",
   "name": "python3"
  },
  "language_info": {
   "codemirror_mode": {
    "name": "ipython",
    "version": 3
   },
   "file_extension": ".py",
   "mimetype": "text/x-python",
   "name": "python",
   "nbconvert_exporter": "python",
   "pygments_lexer": "ipython3",
   "version": "3.6.6"
  }
 },
 "nbformat": 4,
 "nbformat_minor": 2
}
