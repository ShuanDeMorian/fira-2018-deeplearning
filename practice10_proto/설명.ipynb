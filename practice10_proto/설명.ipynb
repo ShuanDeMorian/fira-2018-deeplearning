{
 "cells": [
  {
   "cell_type": "markdown",
   "metadata": {},
   "source": [
    "## Oneshot learning (or fewshot learning)\n",
    "https://en.wikipedia.org/wiki/One-shot_learning\n",
    "\n",
    "One-shot learning is an object categorization problem in computer vision. Whereas most machine learning based object categorization algorithms require training on hundreds or thousands of images and very large datasets, one-shot learning aims to learn information about object categories from one, or only a few, training images."
   ]
  },
  {
   "cell_type": "markdown",
   "metadata": {},
   "source": [
    "<img src=\"fig/fi1.png\" width=\"750\">"
   ]
  },
  {
   "cell_type": "markdown",
   "metadata": {},
   "source": [
    "### 기존의 classification 문제 학습과 테스트\n",
    "<img src=\"fig/fi2.png\" width=\"750\">\n",
    "\n",
    "### one-shot learning 문제 학습과 테스트\n",
    "<img src=\"fig/fi3.png\" width=\"750\">\n",
    "\n",
    "1. one-shot learning은 적은 양의 데이터로 얼마나 잘 학습하는지 평가해야하므로\n",
    "2. 테스트 시에 사용되는 데이터는 모델이 처음 보는 종류의 데이터로 평가"
   ]
  },
  {
   "cell_type": "markdown",
   "metadata": {},
   "source": [
    "### 에피소드: 예를들면 문제집에서 각 문제들 \n",
    "<img src=\"fig/fi4.png\" width=\"750\">\n",
    "### 학습데이터로부터 에피소드를 계속 생성하여 일종의 학습 문제집을 만들 수 있음\n",
    "<img src=\"fig/fi5.png\" width=\"950\">\n",
    "### 테스트데이터로부터 에피소드를 계속 생성하여 일종의 테스트 문제집을 만들 수 있음\n",
    "<img src=\"fig/fi6.png\" width=\"950\">\n",
    "## 정리\n",
    "### 1. oneshot learning에서 학습 데이터 클래스와 테스트 데이터 클래스는 겹쳐지지 않음\n",
    "### 2. 데이터셋으로 학습 에피소드를 구성하여 이를 학습하고 테스트 시에도 테스트 에피소드의 accuracy를 평균값해서 평가\n",
    "\n",
    "\n",
    "<img src=\"fig/fi7.png\" width=\"950\">"
   ]
  },
  {
   "cell_type": "markdown",
   "metadata": {},
   "source": [
    "## 에피소드를 이용하여 학습하는 방법 (Matching net)\n",
    "https://arxiv.org/abs/1606.04080\n",
    "<img src=\"fig/fi8.png\" width=\"800\">\n",
    "### 1. 이미지를 convolutional nerual network를 이용하여 벡터로 embedding\n",
    "### 2. query와 similarity 계산 (fewshot일 경우 같은 클래스내의 similarity의 평균을 계산)\n",
    "### 3. softmax -> classification"
   ]
  },
  {
   "cell_type": "markdown",
   "metadata": {
    "collapsed": true
   },
   "source": [
    "## 에피소드를 이용하여 학습하는 방법 (Prototypical net)\n",
    "https://arxiv.org/abs/1703.05175\n",
    "<img src=\"fig/fi9.png\" width=\"800\">\n",
    "### 1. 이미지를 convolutional nerual network를 이용하여 벡터로 embedding\n",
    "### 2. 같은 클래스 내의 embedding들의 평균 embedding을 계산\n",
    "### 3. query와 similarity 계산\n",
    "### 4. softmax -> classification"
   ]
  },
  {
   "cell_type": "code",
   "execution_count": null,
   "metadata": {
    "collapsed": true
   },
   "outputs": [],
   "source": []
  }
 ],
 "metadata": {
  "kernelspec": {
   "display_name": "Python 3",
   "language": "python",
   "name": "python3"
  },
  "language_info": {
   "codemirror_mode": {
    "name": "ipython",
    "version": 3
   },
   "file_extension": ".py",
   "mimetype": "text/x-python",
   "name": "python",
   "nbconvert_exporter": "python",
   "pygments_lexer": "ipython3",
   "version": "3.6.6"
  }
 },
 "nbformat": 4,
 "nbformat_minor": 2
}
