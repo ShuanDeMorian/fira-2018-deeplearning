{
 "cells": [
  {
   "cell_type": "code",
   "execution_count": 185,
   "metadata": {
    "collapsed": true
   },
   "outputs": [],
   "source": [
    "# credit : https://pytorch.org/tutorials/beginner/blitz/neural_networks_tutorial.html#define-the-network"
   ]
  },
  {
   "cell_type": "markdown",
   "metadata": {
    "collapsed": true
   },
   "source": [
    "## Neural Networks\n",
    "Neural networks can be constructed using the torch.nn package\n",
    "An nn.Module contains layers, and a method forward(input) that returns the output\n",
    "\n",
    "https://pytorch.org/docs/stable/nn.html#linear"
   ]
  },
  {
   "cell_type": "markdown",
   "metadata": {},
   "source": [
    "## Define the network\n",
    "\n",
    "Inputs : 8x1x32x32 (nSamples x nChannels x Height x Width)\n",
    "\n",
    "Output : 8x10 (nSamples x nClasses)"
   ]
  },
  {
   "cell_type": "code",
   "execution_count": 186,
   "metadata": {},
   "outputs": [
    {
     "name": "stdout",
     "output_type": "stream",
     "text": [
      "Net(\n",
      "  (fc1): Linear(in_features=1024, out_features=120, bias=True)\n",
      "  (fc2): Linear(in_features=120, out_features=84, bias=True)\n",
      "  (fc3): Linear(in_features=84, out_features=10, bias=True)\n",
      "  (relu): ReLU(inplace)\n",
      ")\n"
     ]
    }
   ],
   "source": [
    "import torch\n",
    "import torch.nn as nn\n",
    "import torch.nn.functional as F\n",
    "\n",
    "class Net(nn.Module):\n",
    "\n",
    "    def __init__(self,H,y):\n",
    "        super(Net, self).__init__()\n",
    "        # an affine operation: y = Wx + b\n",
    "        self.fc1 = nn.Linear(H, 120)\n",
    "        self.fc2 = nn.Linear(120, 84)\n",
    "        self.fc3 = nn.Linear(84, 10)\n",
    "        self.relu = nn.ReLU(inplace=True)\n",
    "\n",
    "    def forward(self, x):\n",
    "        # View returns a new tensor with the same data but of a different size\n",
    "        x = x.view(-1,32*32)\n",
    "        x = self.relu(self.fc1(x))\n",
    "        x = self.relu(self.fc2(x))\n",
    "        x = self.fc3(x)\n",
    "        return x\n",
    "\n",
    "net = Net(32,y)\n",
    "print(net)"
   ]
  },
  {
   "cell_type": "markdown",
   "metadata": {},
   "source": [
    "You just have to define the forward function, and the backward function (where gradients are computed) is automatically defined for you using autograd. \n",
    "### You can use any of the Tensor operations in the forward function. "
   ]
  },
  {
   "cell_type": "code",
   "execution_count": 187,
   "metadata": {},
   "outputs": [
    {
     "name": "stdout",
     "output_type": "stream",
     "text": [
      "AnyOperatios(\n",
      "  (fc1): Linear(in_features=1024, out_features=120, bias=True)\n",
      "  (fc2): Linear(in_features=120, out_features=84, bias=True)\n",
      "  (fc3): Linear(in_features=84, out_features=10, bias=True)\n",
      "  (relu): ReLU(inplace)\n",
      ")\n"
     ]
    }
   ],
   "source": [
    "class AnyOperatios(nn.Module):\n",
    "\n",
    "    def __init__(self):\n",
    "        super(AnyOperatios, self).__init__()\n",
    "        # an affine operation: y = Wx + b\n",
    "        self.fc1 = nn.Linear(32*32, 120)\n",
    "        self.fc2 = nn.Linear(120, 84)\n",
    "        self.fc3 = nn.Linear(84, 10)\n",
    "        self.relu = nn.ReLU(inplace=True)\n",
    "    def forward(self, x, y, [x]):\n",
    "        # View returns a new tensor with the same data but of a different size\n",
    "        x = x.view(-1,32*32)\n",
    "        x = self.relu(self.fc1(x))\n",
    "        x = self.relu(self.fc2(x))\n",
    "        x = self.fc3(x)\n",
    "        #noise = torch.Tensor(3).normal_(0,1)\n",
    "        for i in range(10):\n",
    "            if torch.rand(1).item()>0.5:\n",
    "                x = x*x\n",
    "            else:\n",
    "                x = x+x\n",
    "        return x + y\n",
    "\n",
    "net2 = AnyOperatios()\n",
    "print(net2)"
   ]
  },
  {
   "cell_type": "markdown",
   "metadata": {},
   "source": [
    "The learnable parameters of a model are returned by net.parameters()"
   ]
  },
  {
   "cell_type": "code",
   "execution_count": 194,
   "metadata": {},
   "outputs": [
    {
     "data": {
      "text/plain": [
       "<generator object parameters at 0x7fd151d6a230>"
      ]
     },
     "execution_count": 194,
     "metadata": {},
     "output_type": "execute_result"
    }
   ],
   "source": [
    "net.parameters()"
   ]
  },
  {
   "cell_type": "code",
   "execution_count": 189,
   "metadata": {},
   "outputs": [
    {
     "name": "stdout",
     "output_type": "stream",
     "text": [
      "tensor([[-0.0703,  0.0148, -0.0134, -0.0727,  0.0938,  0.1302, -0.0579,\n",
      "          0.1098, -0.1761,  0.1537]])\n"
     ]
    }
   ],
   "source": [
    "input = torch.randn(1, 1, 32, 32)\n",
    "out = net(input)\n",
    "print(out)"
   ]
  },
  {
   "cell_type": "markdown",
   "metadata": {},
   "source": [
    "## Loss Function\n",
    "A loss function takes the (output, target) pair of inputs, and computes a value that estimates how far away the output is from the target.\n",
    "\n",
    "There are several different loss functions under the nn package . A simple loss is: nn.MSELoss which computes the mean-squared error between the input and the target.\n",
    "\n",
    "For example:"
   ]
  },
  {
   "cell_type": "code",
   "execution_count": 190,
   "metadata": {},
   "outputs": [
    {
     "name": "stdout",
     "output_type": "stream",
     "text": [
      "tensor(1.4320)\n"
     ]
    }
   ],
   "source": [
    "output = net(input)\n",
    "target = torch.randn(10)  # a dummy target, for example\n",
    "target = target.view(1, -1)  # make it the same shape as output\n",
    "criterion = nn.MSELoss()\n",
    "\n",
    "loss = criterion(output, target)\n",
    "print(loss)"
   ]
  },
  {
   "cell_type": "markdown",
   "metadata": {},
   "source": [
    "## Backprop\n",
    "To backpropagate the error all we have to do is to loss.backward(). You need to clear the existing gradients though, else gradients will be accumulated to existing gradients.\n",
    "\n",
    "Now we shall call loss.backward(), and have a look at fc1’s bias gradients before and after the backward."
   ]
  },
  {
   "cell_type": "code",
   "execution_count": 191,
   "metadata": {},
   "outputs": [
    {
     "name": "stdout",
     "output_type": "stream",
     "text": [
      "fc1.bias.grad before backward\n",
      "None\n",
      "fc1.bias.grad after backward\n",
      "tensor(1.00000e-02 *\n",
      "       [ 0.0000, -2.5788,  0.0000, -1.4811, -0.8217,  0.0000, -1.1966,\n",
      "         0.3178,  0.0000, -3.0738,  0.0000,  3.3465,  0.0000,  0.0000,\n",
      "         0.0000, -1.0964,  0.0000,  0.5056,  1.0128,  0.0000,  0.0000,\n",
      "        -0.1896, -1.6696,  0.0000,  0.0000, -1.1987,  0.2927,  0.0000,\n",
      "         0.8849,  0.0000,  0.0000,  2.2814,  1.6716,  0.0000,  0.0000,\n",
      "         1.3862,  0.0000,  0.0000,  0.0000,  0.0000, -1.1707, -0.6066,\n",
      "         0.1717, -0.0806,  0.0000,  0.0000,  0.0000,  0.6546, -1.0097,\n",
      "        -0.4544,  0.0000, -0.5843,  0.0000,  0.5264,  2.3708,  2.2536,\n",
      "         2.2594,  0.0000,  1.4260,  1.8788, -3.4025,  0.0000,  0.6176,\n",
      "         0.2025,  0.0000,  0.0000,  0.0000,  0.0000,  0.0000,  0.0000,\n",
      "         2.0084, -3.2181,  0.0000, -0.4886,  0.0000,  0.0000, -2.0577,\n",
      "         1.2799, -3.5213,  0.0000,  0.0000,  0.0000,  0.5658, -1.8295,\n",
      "         0.0000,  0.0000,  0.0000,  0.0000,  0.0000, -0.7927,  0.2357,\n",
      "         0.0000, -0.8262,  0.0000,  0.0000,  0.0000,  0.0000,  2.4481,\n",
      "         1.6562,  0.0000,  0.0000, -1.0737,  0.0611, -0.8580,  0.0000,\n",
      "        -0.6953, -0.5300, -2.8905,  0.0000,  0.0000,  0.0000, -0.0457,\n",
      "         0.0000, -0.2434, -0.8645,  0.0000, -3.2976, -0.7611,  1.2870,\n",
      "         0.0000])\n"
     ]
    }
   ],
   "source": [
    "net.zero_grad()     # zeroes the gradient buffers of all parameters\n",
    "\n",
    "print('fc1.bias.grad before backward')\n",
    "print(net.fc1.bias.grad)\n",
    "\n",
    "loss.backward()\n",
    "\n",
    "print('fc1.bias.grad after backward')\n",
    "print(net.fc1.bias.grad)"
   ]
  },
  {
   "cell_type": "markdown",
   "metadata": {},
   "source": [
    "## Update the weights\n",
    "The simplest update rule used in practice is the Stochastic Gradient Descent (SGD):\n",
    "\n",
    "weight = weight - learning_rate * gradient\n",
    "We can implement this using simple python code:"
   ]
  },
  {
   "cell_type": "code",
   "execution_count": 192,
   "metadata": {
    "collapsed": true
   },
   "outputs": [],
   "source": [
    "learning_rate = 0.01\n",
    "for f in net.parameters():\n",
    "    f.data.sub_(f.grad.data * learning_rate)"
   ]
  },
  {
   "cell_type": "markdown",
   "metadata": {},
   "source": [
    "However, as you use neural networks, you want to use various different update rules such as SGD, Nesterov-SGD, Adam, RMSProp, etc. To enable this, we built a small package: torch.optim that implements all these methods. Using it is very simple:"
   ]
  },
  {
   "cell_type": "code",
   "execution_count": 193,
   "metadata": {
    "collapsed": true
   },
   "outputs": [],
   "source": [
    "import torch.optim as optim\n",
    "\n",
    "# create your optimizer\n",
    "optimizer = optim.SGD(net.parameters(), lr=0.01)\n",
    "\n",
    "# in your training loop:\n",
    "   # zero the gradient buffers\n",
    "\n",
    "output = net(input)\n",
    "loss = criterion(output, target)\n",
    "loss.backward()\n",
    "optimizer.step()    # Does the update"
   ]
  },
  {
   "cell_type": "markdown",
   "metadata": {
    "collapsed": true
   },
   "source": [
    "Observe how gradient buffers had to be manually set to zero using optimizer.zero_grad(). This is because gradients are accumulated as explained in Backprop section."
   ]
  },
  {
   "cell_type": "code",
   "execution_count": null,
   "metadata": {
    "collapsed": true
   },
   "outputs": [],
   "source": []
  }
 ],
 "metadata": {
  "kernelspec": {
   "display_name": "Python 2",
   "language": "python",
   "name": "python2"
  },
  "language_info": {
   "codemirror_mode": {
    "name": "ipython",
    "version": 2
   },
   "file_extension": ".py",
   "mimetype": "text/x-python",
   "name": "python",
   "nbconvert_exporter": "python",
   "pygments_lexer": "ipython2",
   "version": "2.7.15"
  }
 },
 "nbformat": 4,
 "nbformat_minor": 2
}
