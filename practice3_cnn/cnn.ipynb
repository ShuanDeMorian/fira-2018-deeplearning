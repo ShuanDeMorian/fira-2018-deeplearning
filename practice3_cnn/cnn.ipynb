{
 "cells": [
  {
   "cell_type": "code",
   "execution_count": 13,
   "metadata": {
    "collapsed": true
   },
   "outputs": [],
   "source": [
    "# credit : https://github.com/yunjey/pytorch-tutorial/tree/master/tutorials/02-intermediate"
   ]
  },
  {
   "cell_type": "markdown",
   "metadata": {},
   "source": [
    "# MNIST dataset \n",
    "The MNIST database contains 60,000 training images and 10,000 testing images\n",
    "\n",
    "<img src=\"mnist.png\" width=\"250\">\n",
    "\n",
    "### Image size : 1x28x28 , __#__ of classes : 10\n"
   ]
  },
  {
   "cell_type": "markdown",
   "metadata": {},
   "source": [
    "# torch.nn.Conv2d\n",
    "\n",
    "<img src=\"conv2d.png\" width=\"650\">\n",
    "\n",
    "### simple example 1 (in_channels=1,out_channels=3)"
   ]
  },
  {
   "cell_type": "code",
   "execution_count": 27,
   "metadata": {},
   "outputs": [
    {
     "name": "stdout",
     "output_type": "stream",
     "text": [
      "torch.Size([1, 3, 3, 3])\n"
     ]
    }
   ],
   "source": [
    "img = torch.rand(1,1,5,5) # batchsize x channels x height x width    \n",
    "myconv = nn.Conv2d(1,3,kernel_size=3)\n",
    "out = myconv(img)\n",
    "print(out.size())"
   ]
  },
  {
   "cell_type": "markdown",
   "metadata": {},
   "source": [
    "<img src=\"conv_ex1.png\" width=\"650\">\n",
    "\n",
    "### weight and bias size"
   ]
  },
  {
   "cell_type": "code",
   "execution_count": 29,
   "metadata": {},
   "outputs": [
    {
     "name": "stdout",
     "output_type": "stream",
     "text": [
      "torch.Size([3, 1, 3, 3])\n",
      "torch.Size([3])\n"
     ]
    }
   ],
   "source": [
    "print(myconv.weight.size())\n",
    "print(myconv.bias.size())"
   ]
  },
  {
   "cell_type": "markdown",
   "metadata": {},
   "source": [
    "### simple example 2 (in_channels=2,out_channels=3)"
   ]
  },
  {
   "cell_type": "code",
   "execution_count": 32,
   "metadata": {},
   "outputs": [
    {
     "name": "stdout",
     "output_type": "stream",
     "text": [
      "torch.Size([1, 3, 3, 3])\n"
     ]
    }
   ],
   "source": [
    "featuremap = torch.rand(1,2,5,5) # batchsize x channels x height x width \n",
    "myconv = nn.Conv2d(2,3,kernel_size=3)\n",
    "out = myconv(featuremap)\n",
    "print(out.size())"
   ]
  },
  {
   "cell_type": "markdown",
   "metadata": {},
   "source": [
    "<img src=\"conv_ex2.png\" width=\"650\">"
   ]
  },
  {
   "cell_type": "markdown",
   "metadata": {},
   "source": [
    "### weight and bias size "
   ]
  },
  {
   "cell_type": "code",
   "execution_count": 35,
   "metadata": {},
   "outputs": [
    {
     "name": "stdout",
     "output_type": "stream",
     "text": [
      "torch.Size([3, 2, 3, 3])\n",
      "torch.Size([3])\n"
     ]
    }
   ],
   "source": [
    "print(myconv.weight.size())\n",
    "print(myconv.bias.size())"
   ]
  },
  {
   "cell_type": "markdown",
   "metadata": {},
   "source": [
    "### simple example 3 (padding)\n",
    "P = (F-1)/2\n",
    "where P is number of zero padding, F is the filter size(odd number) and the number of stride is 1. "
   ]
  },
  {
   "cell_type": "code",
   "execution_count": 43,
   "metadata": {},
   "outputs": [
    {
     "name": "stdout",
     "output_type": "stream",
     "text": [
      "torch.Size([1, 2, 5, 5])\n"
     ]
    }
   ],
   "source": [
    "featuremap = torch.rand(1,2,5,5) # batchsize x channels x height x width    \n",
    "myconv = nn.Conv2d(2,2,kernel_size=3,padding=1) \n",
    "out = myconv(featuremap)\n",
    "print(out.size())"
   ]
  },
  {
   "cell_type": "markdown",
   "metadata": {},
   "source": [
    "### simple example 4 (stride)"
   ]
  },
  {
   "cell_type": "code",
   "execution_count": 47,
   "metadata": {},
   "outputs": [
    {
     "name": "stdout",
     "output_type": "stream",
     "text": [
      "torch.Size([1, 2, 5, 5])\n"
     ]
    }
   ],
   "source": [
    "featuremap = torch.rand(1,2,10,10) # batchsize x channels x height x width    \n",
    "myconv = nn.Conv2d(2,2,kernel_size=3,padding=1,stride=2) \n",
    "out = myconv(featuremap)\n",
    "print(out.size())"
   ]
  },
  {
   "cell_type": "markdown",
   "metadata": {},
   "source": [
    "<img src=\"conv_ex4.png\" width=\"650\">"
   ]
  },
  {
   "cell_type": "markdown",
   "metadata": {},
   "source": [
    "### simple example 5 (pooling)"
   ]
  },
  {
   "cell_type": "code",
   "execution_count": 50,
   "metadata": {},
   "outputs": [
    {
     "name": "stdout",
     "output_type": "stream",
     "text": [
      "torch.Size([1, 2, 5, 5])\n"
     ]
    }
   ],
   "source": [
    "featuremap = torch.rand(1,2,10,10) # batchsize x channels x height x width    \n",
    "mypool = nn.MaxPool2d(kernel_size=2, stride=2)\n",
    "out = mypool(featuremap)\n",
    "print(out.size())"
   ]
  },
  {
   "cell_type": "markdown",
   "metadata": {},
   "source": [
    "<img src=\"conv_ex5.png\" width=\"650\">"
   ]
  },
  {
   "cell_type": "markdown",
   "metadata": {},
   "source": [
    "# MAIN code"
   ]
  },
  {
   "cell_type": "code",
   "execution_count": 3,
   "metadata": {
    "scrolled": true
   },
   "outputs": [
    {
     "name": "stdout",
     "output_type": "stream",
     "text": [
      "Epoch [1/5], Step [100/600], Loss: 0.1320\n",
      "Epoch [1/5], Step [200/600], Loss: 0.1672\n",
      "Epoch [1/5], Step [300/600], Loss: 0.0346\n",
      "Epoch [1/5], Step [400/600], Loss: 0.0268\n",
      "Epoch [1/5], Step [500/600], Loss: 0.0777\n",
      "Epoch [1/5], Step [600/600], Loss: 0.0171\n",
      "Epoch [2/5], Step [100/600], Loss: 0.0908\n",
      "Epoch [2/5], Step [200/600], Loss: 0.0434\n",
      "Epoch [2/5], Step [300/600], Loss: 0.0333\n",
      "Epoch [2/5], Step [400/600], Loss: 0.0127\n",
      "Epoch [2/5], Step [500/600], Loss: 0.0888\n",
      "Epoch [2/5], Step [600/600], Loss: 0.0117\n",
      "Epoch [3/5], Step [100/600], Loss: 0.0208\n",
      "Epoch [3/5], Step [200/600], Loss: 0.0349\n",
      "Epoch [3/5], Step [300/600], Loss: 0.0179\n",
      "Epoch [3/5], Step [400/600], Loss: 0.0899\n",
      "Epoch [3/5], Step [500/600], Loss: 0.0385\n",
      "Epoch [3/5], Step [600/600], Loss: 0.0322\n",
      "Epoch [4/5], Step [100/600], Loss: 0.0048\n",
      "Epoch [4/5], Step [200/600], Loss: 0.0080\n",
      "Epoch [4/5], Step [300/600], Loss: 0.0736\n",
      "Epoch [4/5], Step [400/600], Loss: 0.0072\n",
      "Epoch [4/5], Step [500/600], Loss: 0.0362\n",
      "Epoch [4/5], Step [600/600], Loss: 0.0569\n",
      "Epoch [5/5], Step [100/600], Loss: 0.0174\n",
      "Epoch [5/5], Step [200/600], Loss: 0.0146\n",
      "Epoch [5/5], Step [300/600], Loss: 0.0520\n",
      "Epoch [5/5], Step [400/600], Loss: 0.0080\n",
      "Epoch [5/5], Step [500/600], Loss: 0.0499\n",
      "Epoch [5/5], Step [600/600], Loss: 0.0054\n",
      "Test Accuracy of the model on the 10000 test images: 99.11 %\n"
     ]
    }
   ],
   "source": [
    "import torch \n",
    "import torch.nn as nn\n",
    "import torchvision\n",
    "import torchvision.transforms as transforms\n",
    "\n",
    "\n",
    "# Device configuration\n",
    "device = torch.device('cuda:0' if torch.cuda.is_available() else 'cpu')\n",
    "\n",
    "# Hyper parameters\n",
    "num_epochs = 5\n",
    "num_classes = 10\n",
    "batch_size = 100\n",
    "learning_rate = 0.001\n",
    "\n",
    "# MNIST dataset\n",
    "train_dataset = torchvision.datasets.MNIST(root='../../data/',\n",
    "                                           train=True, \n",
    "                                           transform=transforms.ToTensor(),\n",
    "                                           download=True)\n",
    "\n",
    "test_dataset = torchvision.datasets.MNIST(root='../../data/',\n",
    "                                          train=False, \n",
    "                                          transform=transforms.ToTensor())\n",
    "\n",
    "# Data loader\n",
    "train_loader = torch.utils.data.DataLoader(dataset=train_dataset,\n",
    "                                           batch_size=batch_size, \n",
    "                                           shuffle=True)\n",
    "\n",
    "test_loader = torch.utils.data.DataLoader(dataset=test_dataset,\n",
    "                                          batch_size=batch_size, \n",
    "                                          shuffle=False)\n",
    "\n",
    "# Convolutional neural network (two convolutional layers)\n",
    "class ConvNet(nn.Module):\n",
    "    def __init__(self, num_classes=10):\n",
    "        super(ConvNet, self).__init__()\n",
    "        self.layer1 = nn.Sequential(\n",
    "            nn.Conv2d(1, 16, kernel_size=5, stride=1, padding=2),\n",
    "            nn.BatchNorm2d(16),\n",
    "            nn.ReLU(),\n",
    "            nn.MaxPool2d(kernel_size=2, stride=2))\n",
    "        self.layer2 = nn.Sequential(\n",
    "            nn.Conv2d(16, 32, kernel_size=5, stride=1, padding=2),\n",
    "            nn.BatchNorm2d(32),\n",
    "            nn.ReLU(),\n",
    "            nn.MaxPool2d(kernel_size=2, stride=2))\n",
    "        self.fc = nn.Linear(7*7*32, num_classes)\n",
    "        \n",
    "    def forward(self, x):\n",
    "        out = self.layer1(x)\n",
    "        out = self.layer2(out)\n",
    "        out = out.reshape(out.size(0), -1)\n",
    "        out = self.fc(out)\n",
    "        return out\n",
    "\n",
    "model = ConvNet(num_classes).to(device)\n",
    "\n",
    "# Loss and optimizer\n",
    "criterion = nn.CrossEntropyLoss()\n",
    "optimizer = torch.optim.Adam(model.parameters(), lr=learning_rate)\n",
    "\n",
    "# Train the model\n",
    "total_step = len(train_loader)\n",
    "for epoch in range(num_epochs):\n",
    "    for i, (images, labels) in enumerate(train_loader):\n",
    "        images = images.to(device)\n",
    "        labels = labels.to(device)\n",
    "        \n",
    "        # Forward pass\n",
    "        outputs = model(images)\n",
    "        loss = criterion(outputs, labels)\n",
    "        \n",
    "        # Backward and optimize\n",
    "        optimizer.zero_grad()\n",
    "        loss.backward()\n",
    "        optimizer.step()\n",
    "        \n",
    "        if (i+1) % 100 == 0:\n",
    "            print ('Epoch [{}/{}], Step [{}/{}], Loss: {:.4f}' \n",
    "                   .format(epoch+1, num_epochs, i+1, total_step, loss.item()))\n",
    "\n",
    "# Test the model\n",
    "model.eval()  # eval mode (batchnorm uses moving mean/variance instead of mini-batch mean/variance)\n",
    "with torch.no_grad():\n",
    "    correct = 0\n",
    "    total = 0\n",
    "    for images, labels in test_loader:\n",
    "        images = images.to(device)\n",
    "        labels = labels.to(device)\n",
    "        outputs = model(images)\n",
    "        _, predicted = torch.max(outputs.data, 1)\n",
    "        total += labels.size(0)\n",
    "        correct += (predicted == labels).sum().item()\n",
    "\n",
    "    print('Test Accuracy of the model on the 10000 test images: {} %'.format(100 * correct / total))\n",
    "\n",
    "# Save the model checkpoint\n",
    "# torch.save(model.state_dict(), 'model.ckpt')"
   ]
  },
  {
   "cell_type": "code",
   "execution_count": null,
   "metadata": {
    "collapsed": true
   },
   "outputs": [],
   "source": []
  }
 ],
 "metadata": {
  "kernelspec": {
   "display_name": "Python 3",
   "language": "python",
   "name": "python3"
  },
  "language_info": {
   "codemirror_mode": {
    "name": "ipython",
    "version": 3
   },
   "file_extension": ".py",
   "mimetype": "text/x-python",
   "name": "python",
   "nbconvert_exporter": "python",
   "pygments_lexer": "ipython3",
   "version": "3.6.6"
  }
 },
 "nbformat": 4,
 "nbformat_minor": 2
}
